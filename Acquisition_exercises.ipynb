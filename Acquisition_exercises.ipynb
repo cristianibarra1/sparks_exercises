{
 "cells": [
  {
   "cell_type": "markdown",
   "id": "96aee811",
   "metadata": {},
   "source": [
    "# Exercises\n",
    "\n",
    "Data Acquisition\n",
    "\n",
    "These exercises should go in a notebook or script named wrangle. Add, commit, and push your changes.\n",
    "\n",
    "This exercises use the cases, dept, and source tables from the 311_data on the Codeup MySQL server.\n",
    "\n",
    "- 1)Read the case, department, and source data into their own spark dataframes.\n",
    "- 2)Let's see how writing to the local disk works in spark:\n",
    ">Write the code necessary to store the source data in both csv and json format, store these as sources_csv and sources_json\n",
    "\n",
    ">Inspect your folder structure. What do you notice?\n",
    "\n",
    "- 3)Inspect the data in your dataframes. Are the data types appropriate? Write the code necessary to cast the values to the appropriate types.\n",
    ">PART 2\n",
    "- 1)How old is the latest (in terms of days past SLA) currently open issue? How long has the oldest (in terms of days since opened) currently opened issue been open?\n",
    "- 2)How many Stray Animal cases are there?\n",
    "- 3)How many service requests that are assigned to the Field Operations department (dept_division) are not classified as \"Officer Standby\" request type (service_request_type)?\n",
    "- 4)Convert the council_district column to a string column.\n",
    "- 5)Extract the year from the case_closed_date column.\n",
    "- 6)Convert num_days_late from days to hours in new columns num_hours_late.\n",
    "- 7)Join the case data with the source and department data.\n",
    "- 8)Are there any cases that do not have a request source?\n",
    "- 9)What are the top 10 service request types in terms of number of requests?\n",
    "- 10)What are the top 10 service request types in terms of average days late?\n",
    "- 11)Does number of days late depend on department?\n",
    "- 12)How do number of days late depend on department and request type?\n"
   ]
  },
  {
   "cell_type": "code",
   "execution_count": 5,
   "id": "31861669",
   "metadata": {},
   "outputs": [],
   "source": [
    "from pyspark.sql import SparkSession\n",
    "from pyspark.sql.functions import *\n",
    "\n",
    "spark = SparkSession.builder.getOrCreate()"
   ]
  },
  {
   "cell_type": "markdown",
   "id": "a6962ac5",
   "metadata": {},
   "source": [
    "# 1)Read the case, department, and source data into their own spark dataframes."
   ]
  },
  {
   "cell_type": "code",
   "execution_count": 6,
   "id": "a7292166",
   "metadata": {},
   "outputs": [
    {
     "name": "stderr",
     "output_type": "stream",
     "text": [
      "                                                                                \r"
     ]
    },
    {
     "name": "stdout",
     "output_type": "stream",
     "text": [
      "+----------+----------------+----------------+------------+---------+-------------------+-----------+----------------+--------------------+------------------+-----------+---------+--------------------+----------------+\n",
      "|   case_id|case_opened_date|case_closed_date|SLA_due_date|case_late|      num_days_late|case_closed|   dept_division|service_request_type|          SLA_days|case_status|source_id|     request_address|council_district|\n",
      "+----------+----------------+----------------+------------+---------+-------------------+-----------+----------------+--------------------+------------------+-----------+---------+--------------------+----------------+\n",
      "|1014127332|     1/1/18 0:42|    1/1/18 12:29|9/26/20 0:42|       NO|       -998.5087616|        YES|Field Operations|        Stray Animal|               999|     Closed| svcCRMLS|2315  EL PASO ST,...|               5|\n",
      "|1014127333|     1/1/18 0:46|     1/3/18 8:11| 1/5/18 8:30|       NO|       -2.012604167|        YES|     Storm Water|Removal Of Obstru...|       4.322222222|     Closed| svcCRMSS|2215  GOLIAD RD, ...|               3|\n",
      "|1014127334|     1/1/18 0:48|     1/2/18 7:57| 1/5/18 8:30|       NO|       -3.022337963|        YES|     Storm Water|Removal Of Obstru...|       4.320729167|     Closed| svcCRMSS|102  PALFREY ST W...|               3|\n",
      "|1014127335|     1/1/18 1:29|     1/2/18 8:13|1/17/18 8:30|       NO|       -15.01148148|        YES|Code Enforcement|Front Or Side Yar...|       16.29188657|     Closed| svcCRMSS|114  LA GARDE ST,...|               3|\n",
      "|1014127336|     1/1/18 1:34|    1/1/18 13:29| 1/1/18 4:34|      YES|        0.372164352|        YES|Field Operations|Animal Cruelty(Cr...|             0.125|     Closed| svcCRMSS|734  CLEARVIEW DR...|               7|\n",
      "|1014127337|     1/1/18 6:28|    1/1/18 14:38|1/31/18 8:30|       NO|       -29.74398148|        YES|         Signals|Traffic Signal Op...|       30.08446759|     Closed| svcCRMSS|BANDERA RD and BR...|               7|\n",
      "|1014127338|     1/1/18 6:57|    1/2/18 15:32|1/17/18 8:30|       NO|       -14.70673611|        YES|Code Enforcement|Front Or Side Yar...|       16.06429398|     Closed| svcCRMSS|10133  FIGARO CAN...|               4|\n",
      "|1014127339|     1/1/18 6:58|    1/2/18 15:32|1/17/18 8:30|       NO|       -14.70662037|        YES|Code Enforcement|Front Or Side Yar...|16.063796300000003|     Closed| svcCRMSS|10133  FIGARO CAN...|               4|\n",
      "|1014127340|     1/1/18 6:58|    1/2/18 15:32|1/17/18 8:30|       NO|       -14.70662037|        YES|Code Enforcement|Right Of Way/Side...|       16.06333333|     Closed| svcCRMSS|10133  FIGARO CAN...|               4|\n",
      "|1014127341|     1/1/18 6:59|    1/2/18 15:32|1/17/18 8:30|       NO|       -14.70649306|        YES|Code Enforcement|Front Or Side Yar...|        16.0628588|     Closed| svcCRMSS|10133  FIGARO CAN...|               4|\n",
      "|1014127342|     1/1/18 7:00|    1/2/18 15:32|1/17/18 8:30|       NO|       -14.70649306|        YES|Code Enforcement|Front Or Side Yar...|       16.06237269|     Closed| svcCRMSS|10133  FIGARO CAN...|               4|\n",
      "|1014127343|     1/1/18 7:02|    1/2/18 15:32|1/17/18 8:30|       NO|       -14.70636574|        YES|Code Enforcement|Right Of Way/Side...|       16.06104167|     Closed| svcCRMSS|10133  FIGARO CAN...|               4|\n",
      "|1014127344|     1/1/18 7:02|    1/2/18 15:33|1/17/18 8:30|       NO|          -14.70625|        YES|Code Enforcement|Front Or Side Yar...|       16.06059028|     Closed| svcCRMSS|10129  BOXING PAS...|               4|\n",
      "|1014127345|     1/1/18 7:03|    1/2/18 15:32|1/17/18 8:30|       NO|       -14.70636574|        YES|Code Enforcement|Front Or Side Yar...|       16.06011574|     Closed| svcCRMSS|10129  BOXING PAS...|               4|\n",
      "|1014127346|     1/1/18 7:04|    1/2/18 15:33|1/17/18 8:30|       NO|       -14.70623843|        YES|Code Enforcement|Right Of Way/Side...|       16.05953704|     Closed| svcCRMSS|10129  BOXING PAS...|               4|\n",
      "|1014127347|     1/1/18 7:04|    1/2/18 15:33|1/17/18 8:30|       NO|-14.705891199999998|        YES|Code Enforcement|Front Or Side Yar...|       16.05907407|     Closed| svcCRMSS|834  BARREL POINT...|               4|\n",
      "|1014127348|     1/1/18 7:05|    1/2/18 15:33|1/17/18 8:30|       NO|       -14.70600694|        YES|Code Enforcement|Front Or Side Yar...|       16.05864583|     Closed| svcCRMSS|834  BARREL POINT...|               4|\n",
      "|1014127349|     1/1/18 7:06|    1/2/18 15:33|1/17/18 8:30|       NO|       -14.70576389|        YES|Code Enforcement|Right Of Way/Side...|       16.05819444|     Closed| svcCRMSS|834  BARREL POINT...|               4|\n",
      "|1014127350|     1/1/18 7:06|    1/2/18 15:33|1/17/18 8:30|       NO|       -14.70576389|        YES|Code Enforcement|Front Or Side Yar...|       16.05775463|     Closed| svcCRMSS|834  BARREL POINT...|               4|\n",
      "|1014127351|     1/1/18 7:07|    1/2/18 15:33|1/17/18 8:30|       NO|       -14.70564815|        YES|Code Enforcement|Front Or Side Yar...|       16.05733796|     Closed| svcCRMSS|834  BARREL POINT...|               4|\n",
      "+----------+----------------+----------------+------------+---------+-------------------+-----------+----------------+--------------------+------------------+-----------+---------+--------------------+----------------+\n",
      "only showing top 20 rows\n",
      "\n"
     ]
    }
   ],
   "source": [
    "case = spark.read.csv(\"cases.csv\", sep=\",\", header=True, inferSchema=True)\n",
    "case.show()"
   ]
  },
  {
   "cell_type": "code",
   "execution_count": 7,
   "id": "7fe528ce",
   "metadata": {},
   "outputs": [
    {
     "name": "stdout",
     "output_type": "stream",
     "text": [
      "+--------------------+--------------------+----------------------+-------------------+\n",
      "|       dept_division|           dept_name|standardized_dept_name|dept_subject_to_SLA|\n",
      "+--------------------+--------------------+----------------------+-------------------+\n",
      "|     311 Call Center|    Customer Service|      Customer Service|                YES|\n",
      "|               Brush|Solid Waste Manag...|           Solid Waste|                YES|\n",
      "|     Clean and Green|Parks and Recreation|    Parks & Recreation|                YES|\n",
      "|Clean and Green N...|Parks and Recreation|    Parks & Recreation|                YES|\n",
      "|    Code Enforcement|Code Enforcement ...|  DSD/Code Enforcement|                YES|\n",
      "|Code Enforcement ...|Code Enforcement ...|  DSD/Code Enforcement|                YES|\n",
      "|Code Enforcement ...|                NULL|  DSD/Code Enforcement|                YES|\n",
      "|   Dangerous Premise|Code Enforcement ...|  DSD/Code Enforcement|                YES|\n",
      "|Dangerous Premise...|Code Enforcement ...|  DSD/Code Enforcement|                YES|\n",
      "|Director's Office...|Trans & Cap Impro...|  Trans & Cap Impro...|                YES|\n",
      "|          District 1|        City Council|          City Council|                 NO|\n",
      "|         District 10|        City Council|          City Council|                 NO|\n",
      "|          District 2|        City Council|          City Council|                 NO|\n",
      "|          District 3|        City Council|          City Council|                 NO|\n",
      "|          District 6|        City Council|          City Council|                 NO|\n",
      "|          District 7|        City Council|          City Council|                 NO|\n",
      "|          District 8|        City Council|          City Council|                 NO|\n",
      "|          District 9|        City Council|          City Council|                 NO|\n",
      "|Engineering Division|Development Services|  DSD/Code Enforcement|                YES|\n",
      "|    Facility License|        Metro Health|          Metro Health|                YES|\n",
      "+--------------------+--------------------+----------------------+-------------------+\n",
      "only showing top 20 rows\n",
      "\n"
     ]
    }
   ],
   "source": [
    "dept = spark.read.csv(\"dept.csv\", sep=\",\", header=True, inferSchema=True)\n",
    "dept.show()"
   ]
  },
  {
   "cell_type": "code",
   "execution_count": 8,
   "id": "44ed43e2",
   "metadata": {},
   "outputs": [
    {
     "name": "stdout",
     "output_type": "stream",
     "text": [
      "+-----+---------+--------------------+\n",
      "|index|source_id|     source_username|\n",
      "+-----+---------+--------------------+\n",
      "|    0|   100137|    Merlene Blodgett|\n",
      "|    1|   103582|         Carmen Cura|\n",
      "|    2|   106463|     Richard Sanchez|\n",
      "|    3|   119403|      Betty De Hoyos|\n",
      "|    4|   119555|      Socorro Quiara|\n",
      "|    5|   119868| Michelle San Miguel|\n",
      "|    6|   120752|      Eva T. Kleiber|\n",
      "|    7|   124405|           Lori Lara|\n",
      "|    8|   132408|       Leonard Silva|\n",
      "|    9|   135723|        Amy Cardenas|\n",
      "|   10|   136202|    Michelle Urrutia|\n",
      "|   11|   136979|      Leticia Garcia|\n",
      "|   12|   137943|    Pamela K. Baccus|\n",
      "|   13|   138605|        Marisa Ozuna|\n",
      "|   14|   138650|      Kimberly Green|\n",
      "|   15|   138650|Kimberly Green-Woods|\n",
      "|   16|   138793| Guadalupe Rodriguez|\n",
      "|   17|   138810|       Tawona Martin|\n",
      "|   18|   139342|     Jessica Mendoza|\n",
      "|   19|   139344|        Isis Mendoza|\n",
      "+-----+---------+--------------------+\n",
      "only showing top 20 rows\n",
      "\n"
     ]
    }
   ],
   "source": [
    "source = spark.read.csv(\"source.csv\", sep=\",\", header=True, inferSchema=True)\n",
    "source.show()"
   ]
  },
  {
   "cell_type": "markdown",
   "id": "9cda9942",
   "metadata": {},
   "source": [
    "# 3)Inspect the data in your dataframes. Are the data types appropriate? Write the code necessary to cast the values to the appropriate types."
   ]
  },
  {
   "cell_type": "code",
   "execution_count": 18,
   "id": "7aa61db2",
   "metadata": {},
   "outputs": [],
   "source": [
    "case = case.withColumnRenamed('SLA_due_date', 'case_due_date')"
   ]
  },
  {
   "cell_type": "code",
   "execution_count": 19,
   "id": "2a0324da",
   "metadata": {},
   "outputs": [
    {
     "name": "stdout",
     "output_type": "stream",
     "text": [
      "+-----------+---------+\n",
      "|case_closed|case_late|\n",
      "+-----------+---------+\n",
      "|       true|    false|\n",
      "|       true|    false|\n",
      "|       true|    false|\n",
      "|       true|    false|\n",
      "|       true|     true|\n",
      "+-----------+---------+\n",
      "only showing top 5 rows\n",
      "\n"
     ]
    }
   ],
   "source": [
    "case = case.withColumn('case_closed', expr('case_closed == \"YES\"'))\\\n",
    "           .withColumn('case_late', expr('case_late == \"YES\"'))"
   ]
  },
  {
   "cell_type": "code",
   "execution_count": 20,
   "id": "5023872d",
   "metadata": {},
   "outputs": [
    {
     "name": "stdout",
     "output_type": "stream",
     "text": [
      "+-------------------+-------------------+-------------------+\n",
      "|   case_opened_date|   case_closed_date|      case_due_date|\n",
      "+-------------------+-------------------+-------------------+\n",
      "|2018-01-01 00:42:00|2018-01-01 12:29:00|2020-09-26 00:42:00|\n",
      "|2018-01-01 00:46:00|2018-01-03 08:11:00|2018-01-05 08:30:00|\n",
      "|2018-01-01 00:48:00|2018-01-02 07:57:00|2018-01-05 08:30:00|\n",
      "|2018-01-01 01:29:00|2018-01-02 08:13:00|2018-01-17 08:30:00|\n",
      "|2018-01-01 01:34:00|2018-01-01 13:29:00|2018-01-01 04:34:00|\n",
      "+-------------------+-------------------+-------------------+\n",
      "only showing top 5 rows\n",
      "\n"
     ]
    }
   ],
   "source": [
    "fmt = 'M/d/yy H:mm'\n",
    "\n",
    "case = case.withColumn(\"case_opened_date\", to_timestamp(\"case_opened_date\", fmt))\\\n",
    "           .withColumn(\"case_closed_date\", to_timestamp(\"case_closed_date\", fmt))\\\n",
    "           .withColumn(\"case_due_date\", to_timestamp(\"case_due_date\", fmt))\n",
    "\n",
    "case.select('case_opened_date', 'case_closed_date', 'case_due_date').show(5)"
   ]
  },
  {
   "cell_type": "markdown",
   "id": "3ac0a351",
   "metadata": {},
   "source": [
    "# 1. How old is the latest (in terms of days past SLA) currently open issue? How long has the oldest (in terms of days since opened) currently opened issue been open?"
   ]
  },
  {
   "cell_type": "code",
   "execution_count": 21,
   "id": "f58cdece",
   "metadata": {},
   "outputs": [
    {
     "name": "stderr",
     "output_type": "stream",
     "text": [
      "\r",
      "[Stage 32:>                                                         (0 + 8) / 8]\r"
     ]
    },
    {
     "name": "stdout",
     "output_type": "stream",
     "text": [
      "+-------------------+-------------+-------------+\n",
      "|   case_opened_date|case_due_date|num_days_late|\n",
      "+-------------------+-------------+-------------+\n",
      "|2017-09-11 16:24:00|         null|         NULL|\n",
      "|2017-08-21 15:22:00|         null|         NULL|\n",
      "|2017-08-23 15:47:00|         null|         NULL|\n",
      "|2017-09-06 15:17:00|         null|         NULL|\n",
      "|2017-08-01 10:43:00|         null|         NULL|\n",
      "+-------------------+-------------+-------------+\n",
      "only showing top 5 rows\n",
      "\n"
     ]
    },
    {
     "name": "stderr",
     "output_type": "stream",
     "text": [
      "\r",
      "                                                                                \r"
     ]
    }
   ],
   "source": [
    "case.filter('! case_closed')\\\n",
    "    .select('case_opened_date', 'case_due_date', 'num_days_late')\\\n",
    "    .sort(desc('num_days_late'))\\\n",
    "    .show(5)"
   ]
  },
  {
   "cell_type": "markdown",
   "id": "bb5062ac",
   "metadata": {},
   "source": [
    "# 2)How many Stray Animal cases are there?"
   ]
  },
  {
   "cell_type": "code",
   "execution_count": 10,
   "id": "58cc2dc6",
   "metadata": {},
   "outputs": [
    {
     "name": "stderr",
     "output_type": "stream",
     "text": [
      "                                                                                \r"
     ]
    },
    {
     "data": {
      "text/plain": [
       "26760"
      ]
     },
     "execution_count": 10,
     "metadata": {},
     "output_type": "execute_result"
    }
   ],
   "source": [
    "case.filter(case.service_request_type == lit('Stray Animal')).count()"
   ]
  },
  {
   "cell_type": "markdown",
   "id": "559b6fc5",
   "metadata": {},
   "source": [
    "#  3)How many service requests that are assigned to the Field Operations department (dept_division) are not classified as \"Officer Standby\" request type (service_request_type)?\n",
    "\n"
   ]
  },
  {
   "cell_type": "code",
   "execution_count": null,
   "id": "6c90dcc3",
   "metadata": {},
   "outputs": [],
   "source": [
    "case.filter(case.dept_division == 'Field Operations')\\\n",
    "    .filter(case.service_request_type != 'Officer Standby')\\\n",
    "    .count()"
   ]
  },
  {
   "cell_type": "markdown",
   "id": "53fa38b9",
   "metadata": {},
   "source": [
    "#  4)Convert the council_district column to a string column.\n",
    "\n"
   ]
  },
  {
   "cell_type": "code",
   "execution_count": null,
   "id": "75ae2e79",
   "metadata": {},
   "outputs": [],
   "source": [
    "case = case.withColumn('council_district', col('council_district').cast('string'))"
   ]
  },
  {
   "cell_type": "markdown",
   "id": "2fd11410",
   "metadata": {},
   "source": [
    "#  5)Extract the year from the case_closed_date column.\n",
    "\n"
   ]
  },
  {
   "cell_type": "code",
   "execution_count": null,
   "id": "c0b0500c",
   "metadata": {},
   "outputs": [],
   "source": [
    "case.withColumn('year', year('case_closed_date'))\\\n",
    "    .select('service_request_type', 'case_closed_date', 'year')\\\n",
    "    .show(5)"
   ]
  },
  {
   "cell_type": "markdown",
   "id": "e82f0058",
   "metadata": {},
   "source": [
    "#  6)Convert num_days_late from days to hours in new columns num_hours_late.\n",
    "\n"
   ]
  },
  {
   "cell_type": "code",
   "execution_count": null,
   "id": "366e865c",
   "metadata": {},
   "outputs": [],
   "source": [
    "case.withColumn('num_hours_late', round(expr('num_days_late * 24'), 1))\\\n",
    "    .select('num_days_late', 'num_hours_late')\\\n",
    "    .show(10)"
   ]
  },
  {
   "cell_type": "markdown",
   "id": "af38a9ff",
   "metadata": {},
   "source": [
    "#  7)Join the case data with the source and department data.\n",
    "\n"
   ]
  },
  {
   "cell_type": "code",
   "execution_count": null,
   "id": "04cb50ec",
   "metadata": {},
   "outputs": [],
   "source": [
    "case = case.join(source, 'source_id', 'left')\\\n",
    "           .drop(source.source_id)\n",
    "\n",
    "case.show(2, vertical=True)"
   ]
  },
  {
   "cell_type": "markdown",
   "id": "818cc657",
   "metadata": {},
   "source": [
    "# 8)Are there any cases that do not have a request source?\n",
    "\n"
   ]
  },
  {
   "cell_type": "code",
   "execution_count": 11,
   "id": "ad47c43f",
   "metadata": {},
   "outputs": [
    {
     "name": "stderr",
     "output_type": "stream",
     "text": [
      "                                                                                \r"
     ]
    },
    {
     "data": {
      "text/plain": [
       "0"
      ]
     },
     "execution_count": 11,
     "metadata": {},
     "output_type": "execute_result"
    }
   ],
   "source": [
    "case.filter(case.source_id == 'null').count()"
   ]
  },
  {
   "cell_type": "markdown",
   "id": "c7a0df46",
   "metadata": {},
   "source": [
    "# 9)What are the top 10 service request types in terms of number of requests?"
   ]
  },
  {
   "cell_type": "code",
   "execution_count": 12,
   "id": "a9039efe",
   "metadata": {},
   "outputs": [
    {
     "name": "stderr",
     "output_type": "stream",
     "text": [
      "\r",
      "[Stage 24:>                                                         (0 + 8) / 8]\r"
     ]
    },
    {
     "name": "stdout",
     "output_type": "stream",
     "text": [
      "+--------------------+-----+\n",
      "|service_request_type|count|\n",
      "+--------------------+-----+\n",
      "|           No Pickup|86855|\n",
      "|Overgrown Yard/Trash|65895|\n",
      "|        Bandit Signs|32910|\n",
      "|        Damaged Cart|30338|\n",
      "|Front Or Side Yar...|28794|\n",
      "|        Stray Animal|26760|\n",
      "|Aggressive Animal...|24882|\n",
      "|Cart Exchange Req...|22024|\n",
      "|Junk Vehicle On P...|21473|\n",
      "|     Pot Hole Repair|20616|\n",
      "+--------------------+-----+\n",
      "only showing top 10 rows\n",
      "\n"
     ]
    },
    {
     "name": "stderr",
     "output_type": "stream",
     "text": [
      "\r",
      "                                                                                \r"
     ]
    }
   ],
   "source": [
    "case.groupBy('service_request_type')\\\n",
    "    .count()\\\n",
    "    .sort(desc('count'))\\\n",
    "    .show(10)"
   ]
  },
  {
   "cell_type": "markdown",
   "id": "0eb910d7",
   "metadata": {},
   "source": [
    "# 10)What are the top 10 service request types in terms of average days late?"
   ]
  },
  {
   "cell_type": "code",
   "execution_count": 13,
   "id": "b9b43433",
   "metadata": {},
   "outputs": [
    {
     "name": "stderr",
     "output_type": "stream",
     "text": [
      "\r",
      "[Stage 27:>                                                         (0 + 8) / 8]\r"
     ]
    },
    {
     "name": "stdout",
     "output_type": "stream",
     "text": [
      "+--------------------+--------+\n",
      "|service_request_type|avg_late|\n",
      "+--------------------+--------+\n",
      "|  Zoning: Junk Yards|   176.0|\n",
      "|Labeling for Used...|   162.4|\n",
      "|Record Keeping of...|   154.0|\n",
      "|Signage Requied f...|   151.6|\n",
      "|Storage of Used M...|   142.1|\n",
      "|Zoning: Recycle Yard|   135.9|\n",
      "|Donation Containe...|   131.8|\n",
      "|License Requied U...|   128.8|\n",
      "|Traffic Signal Gr...|    77.9|\n",
      "|           Complaint|    72.5|\n",
      "+--------------------+--------+\n",
      "only showing top 10 rows\n",
      "\n"
     ]
    },
    {
     "name": "stderr",
     "output_type": "stream",
     "text": [
      "\r",
      "                                                                                \r"
     ]
    }
   ],
   "source": [
    "case.groupBy('service_request_type')\\\n",
    "    .agg(round(mean('num_days_late'), 1).alias('avg_late'))\\\n",
    "    .sort(desc('avg_late'))\\\n",
    "    .show(10)"
   ]
  },
  {
   "cell_type": "markdown",
   "id": "97509c87",
   "metadata": {},
   "source": [
    "# 11)How do number of days late depend on department and request type?"
   ]
  },
  {
   "cell_type": "code",
   "execution_count": null,
   "id": "6a7d8ba9",
   "metadata": {},
   "outputs": [],
   "source": [
    "case.groupBy('department', 'service_request_type')\\\n",
    "    .agg(round(avg('num_days_late'), 1).alias('avg_days_late'))\\\n",
    "    .sort('department')\\\n",
    "    .show(50)"
   ]
  }
 ],
 "metadata": {
  "kernelspec": {
   "display_name": "Python 3 (ipykernel)",
   "language": "python",
   "name": "python3"
  },
  "language_info": {
   "codemirror_mode": {
    "name": "ipython",
    "version": 3
   },
   "file_extension": ".py",
   "mimetype": "text/x-python",
   "name": "python",
   "nbconvert_exporter": "python",
   "pygments_lexer": "ipython3",
   "version": "3.9.12"
  }
 },
 "nbformat": 4,
 "nbformat_minor": 5
}
